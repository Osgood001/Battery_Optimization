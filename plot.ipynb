{
 "cells": [
  {
   "cell_type": "code",
   "execution_count": null,
   "metadata": {},
   "outputs": [],
   "source": [
    "from optimize import *\n",
    "import matplotlib.pyplot as plt\n",
    "# Define the range of eta values\n",
    "N = 5\n",
    "eta_values = np.linspace(0.1, 1, 20)  # Avoiding eta=0 to prevent division by zero\n",
    "\n",
    "# Lists to store results\n",
    "objective_values = []\n",
    "real_etas = []\n",
    "\n",
    "# Calculate objective values and real etas for each eta value\n",
    "for eta in eta_values:\n",
    "    objective_value, real_eta = objective_function(eta, N)\n",
    "    objective_values.append(objective_value)\n",
    "    real_etas.append(real_eta)\n",
    "\n",
    "# Plotting\n",
    "print(eta_values)\n",
    "print(real_etas)\n",
    "print(objective_values)\n",
    "plt.plot(real_etas, objective_values)\n",
    "plt.xlabel('Real Eta')\n",
    "plt.ylabel('Objective Value')\n",
    "plt.title('Relationship between Real Eta and Objective Value')\n",
    "plt.grid(True)\n",
    "plt.show()"
   ]
  },
  {
   "cell_type": "code",
   "execution_count": null,
   "metadata": {},
   "outputs": [],
   "source": []
  }
 ],
 "metadata": {
  "language_info": {
   "name": "python"
  }
 },
 "nbformat": 4,
 "nbformat_minor": 2
}
